{
 "cells": [
  {
   "cell_type": "code",
   "execution_count": 1,
   "id": "selected-proxy",
   "metadata": {
    "_cell_guid": "b1076dfc-b9ad-4769-8c92-a6c4dae69d19",
    "_uuid": "8f2839f25d086af736a60e9eeb907d3b93b6e0e5",
    "execution": {
     "iopub.execute_input": "2021-07-04T02:10:07.122141Z",
     "iopub.status.busy": "2021-07-04T02:10:07.121078Z",
     "iopub.status.idle": "2021-07-04T02:10:07.861253Z",
     "shell.execute_reply": "2021-07-04T02:10:07.862039Z",
     "shell.execute_reply.started": "2021-07-04T02:02:44.469962Z"
    },
    "papermill": {
     "duration": 0.773877,
     "end_time": "2021-07-04T02:10:07.862353",
     "exception": false,
     "start_time": "2021-07-04T02:10:07.088476",
     "status": "completed"
    },
    "tags": []
   },
   "outputs": [
    {
     "name": "stdout",
     "output_type": "stream",
     "text": [
      "/kaggle/input/ads-data-jobathon-june21-analytics-vidhya/VisitorLogsData.csv\n",
      "/kaggle/input/ads-data-jobathon-june21-analytics-vidhya/userTable.csv\n"
     ]
    }
   ],
   "source": [
    "# This Python 3 environment comes with many helpful analytics libraries installed\n",
    "# It is defined by the kaggle/python Docker image: https://github.com/kaggle/docker-python\n",
    "# For example, here's several helpful packages to load\n",
    "\n",
    "import numpy as np # linear algebra\n",
    "import pandas as pd # data processing, CSV file I/O (e.g. .read_csv)\n",
    "\n",
    "# Input data files are available in the read-only \"../input/\" directory\n",
    "# For example, running this (by clicking run or pressing Shift+Enter) will list all files under the input directory\n",
    "\n",
    "import os\n",
    "for dirname, _, filenames in os.walk('/kaggle/input'):\n",
    "    for filename in filenames:\n",
    "        print(os.path.join(dirname, filename))\n",
    "from scipy import stats\n",
    "\n",
    "        \n",
    "pd.set_option('display.max_rows', 400)\n",
    "pd.set_option('display.max_columns', 100)\n",
    "# You can write up to 20GB to the current directory (/kaggle/working/) that gets preserved as output when you create a version using \"Save & Run All\" \n",
    "# You can also write temporary files to /kaggle/temp/, but they won't be saved outside of the current session"
   ]
  },
  {
   "cell_type": "code",
   "execution_count": 2,
   "id": "fundamental-checklist",
   "metadata": {
    "execution": {
     "iopub.execute_input": "2021-07-04T02:10:07.920910Z",
     "iopub.status.busy": "2021-07-04T02:10:07.920322Z",
     "iopub.status.idle": "2021-07-04T02:10:28.182714Z",
     "shell.execute_reply": "2021-07-04T02:10:28.182175Z",
     "shell.execute_reply.started": "2021-07-04T02:02:50.822776Z"
    },
    "papermill": {
     "duration": 20.291722,
     "end_time": "2021-07-04T02:10:28.182912",
     "exception": false,
     "start_time": "2021-07-04T02:10:07.891190",
     "status": "completed"
    },
    "tags": []
   },
   "outputs": [],
   "source": [
    "visData = pd.read_csv(\"/kaggle/input/ads-data-jobathon-june21-analytics-vidhya/VisitorLogsData.csv\")\n",
    "userData = pd.read_csv(\"/kaggle/input/ads-data-jobathon-june21-analytics-vidhya/userTable.csv\")"
   ]
  },
  {
   "cell_type": "markdown",
   "id": "falling-service",
   "metadata": {
    "papermill": {
     "duration": 0.027393,
     "end_time": "2021-07-04T02:10:28.238751",
     "exception": false,
     "start_time": "2021-07-04T02:10:28.211358",
     "status": "completed"
    },
    "tags": []
   },
   "source": [
    "Taking only User Visited sites"
   ]
  },
  {
   "cell_type": "code",
   "execution_count": 3,
   "id": "devoted-lawyer",
   "metadata": {
    "execution": {
     "iopub.execute_input": "2021-07-04T02:10:28.958413Z",
     "iopub.status.busy": "2021-07-04T02:10:28.307102Z",
     "iopub.status.idle": "2021-07-04T02:10:28.961812Z",
     "shell.execute_reply": "2021-07-04T02:10:28.961268Z",
     "shell.execute_reply.started": "2021-07-04T02:03:09.203717Z"
    },
    "papermill": {
     "duration": 0.695167,
     "end_time": "2021-07-04T02:10:28.961965",
     "exception": false,
     "start_time": "2021-07-04T02:10:28.266798",
     "status": "completed"
    },
    "tags": []
   },
   "outputs": [],
   "source": [
    "visData.drop(['City','Country'],axis=1,inplace=True)"
   ]
  },
  {
   "cell_type": "code",
   "execution_count": 4,
   "id": "future-italic",
   "metadata": {
    "execution": {
     "iopub.execute_input": "2021-07-04T02:10:29.158445Z",
     "iopub.status.busy": "2021-07-04T02:10:29.157770Z",
     "iopub.status.idle": "2021-07-04T02:10:34.501941Z",
     "shell.execute_reply": "2021-07-04T02:10:34.501223Z",
     "shell.execute_reply.started": "2021-07-04T02:03:09.893395Z"
    },
    "papermill": {
     "duration": 5.51157,
     "end_time": "2021-07-04T02:10:34.502072",
     "exception": false,
     "start_time": "2021-07-04T02:10:28.990502",
     "status": "completed"
    },
    "tags": []
   },
   "outputs": [
    {
     "data": {
      "text/html": [
       "<div>\n",
       "<style scoped>\n",
       "    .dataframe tbody tr th:only-of-type {\n",
       "        vertical-align: middle;\n",
       "    }\n",
       "\n",
       "    .dataframe tbody tr th {\n",
       "        vertical-align: top;\n",
       "    }\n",
       "\n",
       "    .dataframe thead th {\n",
       "        text-align: right;\n",
       "    }\n",
       "</style>\n",
       "<table border=\"1\" class=\"dataframe\">\n",
       "  <thead>\n",
       "    <tr style=\"text-align: right;\">\n",
       "      <th></th>\n",
       "      <th>webclient</th>\n",
       "      <th>usersize</th>\n",
       "      <th>usercount</th>\n",
       "      <th>diff</th>\n",
       "    </tr>\n",
       "  </thead>\n",
       "  <tbody>\n",
       "    <tr>\n",
       "      <th>0</th>\n",
       "      <td>WI1000000</td>\n",
       "      <td>1350</td>\n",
       "      <td>1350</td>\n",
       "      <td>0</td>\n",
       "    </tr>\n",
       "    <tr>\n",
       "      <th>1</th>\n",
       "      <td>WI1000001</td>\n",
       "      <td>97</td>\n",
       "      <td>0</td>\n",
       "      <td>97</td>\n",
       "    </tr>\n",
       "    <tr>\n",
       "      <th>2</th>\n",
       "      <td>WI10000010</td>\n",
       "      <td>1</td>\n",
       "      <td>0</td>\n",
       "      <td>1</td>\n",
       "    </tr>\n",
       "    <tr>\n",
       "      <th>3</th>\n",
       "      <td>WI100000100</td>\n",
       "      <td>99</td>\n",
       "      <td>0</td>\n",
       "      <td>99</td>\n",
       "    </tr>\n",
       "    <tr>\n",
       "      <th>4</th>\n",
       "      <td>WI1000001000</td>\n",
       "      <td>5</td>\n",
       "      <td>0</td>\n",
       "      <td>5</td>\n",
       "    </tr>\n",
       "  </tbody>\n",
       "</table>\n",
       "</div>"
      ],
      "text/plain": [
       "      webclient  usersize  usercount  diff\n",
       "0     WI1000000      1350       1350     0\n",
       "1     WI1000001        97          0    97\n",
       "2    WI10000010         1          0     1\n",
       "3   WI100000100        99          0    99\n",
       "4  WI1000001000         5          0     5"
      ]
     },
     "execution_count": 4,
     "metadata": {},
     "output_type": "execute_result"
    }
   ],
   "source": [
    "# visData[(visData['UserID'].isnull()==True) & (visData['ProductID'].isnull()==False)].groupby('webClientID').count()\n",
    "bb = visData.groupby('webClientID').agg({'UserID':['size','count']}).reset_index()\n",
    "bb.columns=['webclient','usersize','usercount']\n",
    "bb['diff'] = bb['usersize']-bb['usercount']\n",
    "bb.head()"
   ]
  },
  {
   "cell_type": "code",
   "execution_count": 5,
   "id": "greatest-command",
   "metadata": {
    "execution": {
     "iopub.execute_input": "2021-07-04T02:10:34.562459Z",
     "iopub.status.busy": "2021-07-04T02:10:34.561901Z",
     "iopub.status.idle": "2021-07-04T02:10:34.588795Z",
     "shell.execute_reply": "2021-07-04T02:10:34.588297Z",
     "shell.execute_reply.started": "2021-07-04T02:03:16.538055Z"
    },
    "papermill": {
     "duration": 0.057526,
     "end_time": "2021-07-04T02:10:34.588929",
     "exception": false,
     "start_time": "2021-07-04T02:10:34.531403",
     "status": "completed"
    },
    "tags": []
   },
   "outputs": [
    {
     "data": {
      "text/html": [
       "<div>\n",
       "<style scoped>\n",
       "    .dataframe tbody tr th:only-of-type {\n",
       "        vertical-align: middle;\n",
       "    }\n",
       "\n",
       "    .dataframe tbody tr th {\n",
       "        vertical-align: top;\n",
       "    }\n",
       "\n",
       "    .dataframe thead th {\n",
       "        text-align: right;\n",
       "    }\n",
       "</style>\n",
       "<table border=\"1\" class=\"dataframe\">\n",
       "  <thead>\n",
       "    <tr style=\"text-align: right;\">\n",
       "      <th></th>\n",
       "      <th>webclient</th>\n",
       "      <th>usersize</th>\n",
       "      <th>usercount</th>\n",
       "      <th>diff</th>\n",
       "    </tr>\n",
       "  </thead>\n",
       "  <tbody>\n",
       "  </tbody>\n",
       "</table>\n",
       "</div>"
      ],
      "text/plain": [
       "Empty DataFrame\n",
       "Columns: [webclient, usersize, usercount, diff]\n",
       "Index: []"
      ]
     },
     "execution_count": 5,
     "metadata": {},
     "output_type": "execute_result"
    }
   ],
   "source": [
    "bb[(bb['usercount']!=0) & (bb['diff']!=0)]"
   ]
  },
  {
   "cell_type": "markdown",
   "id": "impaired-latest",
   "metadata": {
    "papermill": {
     "duration": 0.029098,
     "end_time": "2021-07-04T02:10:34.647480",
     "exception": false,
     "start_time": "2021-07-04T02:10:34.618382",
     "status": "completed"
    },
    "tags": []
   },
   "source": [
    "No such user exist in which user id is not halfway null for any webclientID"
   ]
  },
  {
   "cell_type": "code",
   "execution_count": 6,
   "id": "spanish-bottom",
   "metadata": {
    "execution": {
     "iopub.execute_input": "2021-07-04T02:10:34.972302Z",
     "iopub.status.busy": "2021-07-04T02:10:34.971298Z",
     "iopub.status.idle": "2021-07-04T02:10:35.175598Z",
     "shell.execute_reply": "2021-07-04T02:10:35.176159Z",
     "shell.execute_reply.started": "2021-07-04T02:03:16.573177Z"
    },
    "papermill": {
     "duration": 0.50044,
     "end_time": "2021-07-04T02:10:35.176318",
     "exception": false,
     "start_time": "2021-07-04T02:10:34.675878",
     "status": "completed"
    },
    "tags": []
   },
   "outputs": [
    {
     "name": "stdout",
     "output_type": "stream",
     "text": [
      "(650695, 7)\n"
     ]
    }
   ],
   "source": [
    "visUsrData = visData[visData['UserID'].isnull()==False].copy()\n",
    "print(visUsrData.shape)"
   ]
  },
  {
   "cell_type": "markdown",
   "id": "still-vienna",
   "metadata": {
    "papermill": {
     "duration": 0.029517,
     "end_time": "2021-07-04T02:10:35.235797",
     "exception": false,
     "start_time": "2021-07-04T02:10:35.206280",
     "status": "completed"
    },
    "tags": []
   },
   "source": [
    "Correcting Dates"
   ]
  },
  {
   "cell_type": "code",
   "execution_count": 7,
   "id": "previous-acting",
   "metadata": {
    "execution": {
     "iopub.execute_input": "2021-07-04T02:10:35.297873Z",
     "iopub.status.busy": "2021-07-04T02:10:35.297274Z",
     "iopub.status.idle": "2021-07-04T02:11:36.476539Z",
     "shell.execute_reply": "2021-07-04T02:11:36.477023Z",
     "shell.execute_reply.started": "2021-07-04T02:03:17.092162Z"
    },
    "papermill": {
     "duration": 61.212124,
     "end_time": "2021-07-04T02:11:36.477221",
     "exception": false,
     "start_time": "2021-07-04T02:10:35.265097",
     "status": "completed"
    },
    "tags": []
   },
   "outputs": [
    {
     "name": "stderr",
     "output_type": "stream",
     "text": [
      "Running Date Time conversion: 100%|██████████| 650695/650695 [01:01<00:00, 10647.99it/s]\n"
     ]
    }
   ],
   "source": [
    "from datetime import datetime\n",
    "from tqdm import tqdm_notebook,tqdm\n",
    "tqdm.pandas(desc=\"Running Date Time conversion\")\n",
    "def correctTimeStamp(x):\n",
    "    if x==x:\n",
    "        try:\n",
    "            x = pd.to_datetime(x,format='%Y-%m-%d %H:%M:%S')\n",
    "        except ValueError:\n",
    "            x = int(x)\n",
    "            x=x/ 10**9\n",
    "            x = datetime.fromtimestamp(x).strftime('%Y-%m-%d %H:%M:%S.%f')\n",
    "        return x\n",
    "    else:\n",
    "        return np.nan\n",
    "    \n",
    "visUsrData['VisitDateTime'] = visUsrData['VisitDateTime'].progress_apply(correctTimeStamp)"
   ]
  },
  {
   "cell_type": "markdown",
   "id": "facial-elevation",
   "metadata": {
    "papermill": {
     "duration": 0.19995,
     "end_time": "2021-07-04T02:11:36.874854",
     "exception": false,
     "start_time": "2021-07-04T02:11:36.674904",
     "status": "completed"
    },
    "tags": []
   },
   "source": [
    "### Handling Missing Data & removing duplicates"
   ]
  },
  {
   "cell_type": "code",
   "execution_count": 8,
   "id": "portuguese-accent",
   "metadata": {
    "execution": {
     "iopub.execute_input": "2021-07-04T02:11:37.337598Z",
     "iopub.status.busy": "2021-07-04T02:11:37.336980Z",
     "iopub.status.idle": "2021-07-04T02:11:37.991200Z",
     "shell.execute_reply": "2021-07-04T02:11:37.992060Z",
     "shell.execute_reply.started": "2021-07-04T02:04:22.228504Z"
    },
    "papermill": {
     "duration": 0.893783,
     "end_time": "2021-07-04T02:11:37.992229",
     "exception": false,
     "start_time": "2021-07-04T02:11:37.098446",
     "status": "completed"
    },
    "tags": []
   },
   "outputs": [],
   "source": [
    "# visUsrData['UserID'].sample(20)\n",
    "visUsrData = visUsrData[visUsrData.duplicated()==False].copy()"
   ]
  },
  {
   "cell_type": "markdown",
   "id": "collected-montana",
   "metadata": {
    "papermill": {
     "duration": 0.195307,
     "end_time": "2021-07-04T02:11:38.385071",
     "exception": false,
     "start_time": "2021-07-04T02:11:38.189764",
     "status": "completed"
    },
    "tags": []
   },
   "source": [
    "### Feature Engineering and Imputing missing values"
   ]
  },
  {
   "cell_type": "code",
   "execution_count": 9,
   "id": "existing-stamp",
   "metadata": {
    "execution": {
     "iopub.execute_input": "2021-07-04T02:11:38.792087Z",
     "iopub.status.busy": "2021-07-04T02:11:38.791227Z",
     "iopub.status.idle": "2021-07-04T02:12:06.374528Z",
     "shell.execute_reply": "2021-07-04T02:12:06.374063Z",
     "shell.execute_reply.started": "2021-07-04T02:04:39.074853Z"
    },
    "papermill": {
     "duration": 27.793897,
     "end_time": "2021-07-04T02:12:06.374670",
     "exception": false,
     "start_time": "2021-07-04T02:11:38.580773",
     "status": "completed"
    },
    "tags": []
   },
   "outputs": [],
   "source": [
    "visUsrData['VisitDateTime']=visUsrData.groupby(['UserID','webClientID'])['VisitDateTime'].transform(lambda x: x.fillna(x.min()))\n",
    "visUsrData['Activity'] = visUsrData.sort_values(['UserID','VisitDateTime']).groupby('UserID')['Activity'].transform(lambda x:x.fillna(method = 'bfill'))\n",
    "visUsrData['Activity'].fillna('pageload',inplace=True)"
   ]
  },
  {
   "cell_type": "code",
   "execution_count": 10,
   "id": "received-aggregate",
   "metadata": {
    "execution": {
     "iopub.execute_input": "2021-07-04T02:12:06.783313Z",
     "iopub.status.busy": "2021-07-04T02:12:06.782701Z",
     "iopub.status.idle": "2021-07-04T02:12:23.638394Z",
     "shell.execute_reply": "2021-07-04T02:12:23.637830Z",
     "shell.execute_reply.started": "2021-07-04T02:04:55.171751Z"
    },
    "papermill": {
     "duration": 17.066995,
     "end_time": "2021-07-04T02:12:23.638538",
     "exception": false,
     "start_time": "2021-07-04T02:12:06.571543",
     "status": "completed"
    },
    "tags": []
   },
   "outputs": [],
   "source": [
    "visUsrData['OS'] = visUsrData['OS'].apply(lambda x: x.lower())\n",
    "visUsrData['ProductID'] = visUsrData['ProductID'].apply(lambda x: x if x!=x else str(x).lower())\n",
    "\n",
    "visUsrData['SevenDays']=0\n",
    "visUsrData.loc[visUsrData['VisitDateTime']>='2018-05-21','SevenDays']=1\n",
    "visUsrData['FifteenDays']=0\n",
    "visUsrData.loc[visUsrData['VisitDateTime']>='2018-05-13','FifteenDays']=1\n",
    "visUsrData['isActive'] = visUsrData['Activity'].apply(lambda x: x==x)\n",
    "\n",
    "visUsrData['is7Active']=0\n",
    "visUsrData.loc[(visUsrData['isActive']==1) &(visUsrData['SevenDays']==1),'is7Active']=1\n",
    "\n",
    "visUsrData['VisitDate'] = visUsrData['VisitDateTime'].dt.date\n",
    "visUsrData['Activity'] = visUsrData['Activity'].apply(lambda x: x if x!=x else str(x).lower())\n",
    "\n",
    "visUsrData['Pageloads_last_7_days']=0\n",
    "visUsrData.loc[(visUsrData['Activity']=='pageload') & (visUsrData['SevenDays']==1),'Pageloads_last_7_days']=1\n",
    "\n",
    "visUsrData['Clicks_last_7_days']=0\n",
    "visUsrData.loc[(visUsrData['Activity']=='click') & (visUsrData['SevenDays']==1),'Clicks_last_7_days']=1\n",
    "\n",
    "\n",
    "visUsrData['FifteenDaysActive']=0\n",
    "visUsrData.loc[((visUsrData['FifteenDays']==1) & (visUsrData['isActive']==True)),'FifteenDaysActive']=1\n",
    "visUsrData['pageloads_actvity']=0\n",
    "visUsrData.loc[(visUsrData['Activity']=='pageload'),'pageloads_actvity']=1\n",
    "\n",
    "visUsrData['ProductID'] = visUsrData.sort_values(['UserID','VisitDateTime']).groupby('UserID')['ProductID'].transform(lambda x:x.fillna(method = 'bfill'))"
   ]
  },
  {
   "cell_type": "markdown",
   "id": "optional-firmware",
   "metadata": {
    "papermill": {
     "duration": 0.194855,
     "end_time": "2021-07-04T02:12:24.028861",
     "exception": false,
     "start_time": "2021-07-04T02:12:23.834006",
     "status": "completed"
    },
    "tags": []
   },
   "source": [
    "### Creating Input Features"
   ]
  },
  {
   "cell_type": "markdown",
   "id": "scientific-carter",
   "metadata": {
    "papermill": {
     "duration": 0.195316,
     "end_time": "2021-07-04T02:12:24.417860",
     "exception": false,
     "start_time": "2021-07-04T02:12:24.222544",
     "status": "completed"
    },
    "tags": []
   },
   "source": [
    "## No_of_days_Visited_7_Days"
   ]
  },
  {
   "cell_type": "code",
   "execution_count": 11,
   "id": "valid-dylan",
   "metadata": {
    "execution": {
     "iopub.execute_input": "2021-07-04T02:12:24.824836Z",
     "iopub.status.busy": "2021-07-04T02:12:24.824262Z",
     "iopub.status.idle": "2021-07-04T02:12:25.001049Z",
     "shell.execute_reply": "2021-07-04T02:12:25.000398Z",
     "shell.execute_reply.started": "2021-07-04T02:05:23.586899Z"
    },
    "papermill": {
     "duration": 0.386814,
     "end_time": "2021-07-04T02:12:25.001184",
     "exception": false,
     "start_time": "2021-07-04T02:12:24.614370",
     "status": "completed"
    },
    "tags": []
   },
   "outputs": [
    {
     "data": {
      "text/html": [
       "<div>\n",
       "<style scoped>\n",
       "    .dataframe tbody tr th:only-of-type {\n",
       "        vertical-align: middle;\n",
       "    }\n",
       "\n",
       "    .dataframe tbody tr th {\n",
       "        vertical-align: top;\n",
       "    }\n",
       "\n",
       "    .dataframe thead th {\n",
       "        text-align: right;\n",
       "    }\n",
       "</style>\n",
       "<table border=\"1\" class=\"dataframe\">\n",
       "  <thead>\n",
       "    <tr style=\"text-align: right;\">\n",
       "      <th></th>\n",
       "      <th>UserID</th>\n",
       "    </tr>\n",
       "  </thead>\n",
       "  <tbody>\n",
       "    <tr>\n",
       "      <th>0</th>\n",
       "      <td>U100002</td>\n",
       "    </tr>\n",
       "    <tr>\n",
       "      <th>1</th>\n",
       "      <td>U100003</td>\n",
       "    </tr>\n",
       "    <tr>\n",
       "      <th>2</th>\n",
       "      <td>U100004</td>\n",
       "    </tr>\n",
       "    <tr>\n",
       "      <th>3</th>\n",
       "      <td>U100005</td>\n",
       "    </tr>\n",
       "    <tr>\n",
       "      <th>4</th>\n",
       "      <td>U100006</td>\n",
       "    </tr>\n",
       "    <tr>\n",
       "      <th>...</th>\n",
       "      <td>...</td>\n",
       "    </tr>\n",
       "    <tr>\n",
       "      <th>34045</th>\n",
       "      <td>U136960</td>\n",
       "    </tr>\n",
       "    <tr>\n",
       "      <th>34046</th>\n",
       "      <td>U136961</td>\n",
       "    </tr>\n",
       "    <tr>\n",
       "      <th>34047</th>\n",
       "      <td>U136963</td>\n",
       "    </tr>\n",
       "    <tr>\n",
       "      <th>34048</th>\n",
       "      <td>U136964</td>\n",
       "    </tr>\n",
       "    <tr>\n",
       "      <th>34049</th>\n",
       "      <td>U136965</td>\n",
       "    </tr>\n",
       "  </tbody>\n",
       "</table>\n",
       "<p>34050 rows × 1 columns</p>\n",
       "</div>"
      ],
      "text/plain": [
       "        UserID\n",
       "0      U100002\n",
       "1      U100003\n",
       "2      U100004\n",
       "3      U100005\n",
       "4      U100006\n",
       "...        ...\n",
       "34045  U136960\n",
       "34046  U136961\n",
       "34047  U136963\n",
       "34048  U136964\n",
       "34049  U136965\n",
       "\n",
       "[34050 rows x 1 columns]"
      ]
     },
     "execution_count": 11,
     "metadata": {},
     "output_type": "execute_result"
    }
   ],
   "source": [
    "df = pd.DataFrame(visUsrData.groupby(['UserID'])['webClientID'].count().reset_index().drop('webClientID',axis=1))\n",
    "df"
   ]
  },
  {
   "cell_type": "code",
   "execution_count": 12,
   "id": "regional-sucking",
   "metadata": {
    "execution": {
     "iopub.execute_input": "2021-07-04T02:12:25.393756Z",
     "iopub.status.busy": "2021-07-04T02:12:25.393198Z",
     "iopub.status.idle": "2021-07-04T02:12:26.074815Z",
     "shell.execute_reply": "2021-07-04T02:12:26.075262Z",
     "shell.execute_reply.started": "2021-07-04T02:05:23.809564Z"
    },
    "papermill": {
     "duration": 0.881002,
     "end_time": "2021-07-04T02:12:26.075437",
     "exception": false,
     "start_time": "2021-07-04T02:12:25.194435",
     "status": "completed"
    },
    "tags": []
   },
   "outputs": [],
   "source": [
    "\n",
    "df = df.merge(visUsrData.groupby(['UserID','VisitDate','is7Active']).count().reset_index().groupby('UserID')['is7Active'].sum().reset_index(),on='UserID',how='left')\n",
    "df['is7Active'].fillna(0,inplace=True)\n"
   ]
  },
  {
   "cell_type": "code",
   "execution_count": 13,
   "id": "assumed-things",
   "metadata": {
    "execution": {
     "iopub.execute_input": "2021-07-04T02:12:26.473840Z",
     "iopub.status.busy": "2021-07-04T02:12:26.473198Z",
     "iopub.status.idle": "2021-07-04T02:12:26.479570Z",
     "shell.execute_reply": "2021-07-04T02:12:26.479117Z",
     "shell.execute_reply.started": "2021-07-04T02:05:24.631228Z"
    },
    "papermill": {
     "duration": 0.207283,
     "end_time": "2021-07-04T02:12:26.479693",
     "exception": false,
     "start_time": "2021-07-04T02:12:26.272410",
     "status": "completed"
    },
    "tags": []
   },
   "outputs": [
    {
     "data": {
      "text/plain": [
       "0.0    17878\n",
       "1.0    10692\n",
       "2.0     3217\n",
       "3.0     1253\n",
       "4.0      555\n",
       "5.0      261\n",
       "6.0      132\n",
       "7.0       62\n",
       "Name: is7Active, dtype: int64"
      ]
     },
     "execution_count": 13,
     "metadata": {},
     "output_type": "execute_result"
    }
   ],
   "source": [
    "df['is7Active'].value_counts()"
   ]
  },
  {
   "cell_type": "markdown",
   "id": "liable-health",
   "metadata": {
    "papermill": {
     "duration": 0.199725,
     "end_time": "2021-07-04T02:12:26.880200",
     "exception": false,
     "start_time": "2021-07-04T02:12:26.680475",
     "status": "completed"
    },
    "tags": []
   },
   "source": [
    "Using User Data"
   ]
  },
  {
   "cell_type": "code",
   "execution_count": 14,
   "id": "previous-stage",
   "metadata": {
    "execution": {
     "iopub.execute_input": "2021-07-04T02:12:27.288859Z",
     "iopub.status.busy": "2021-07-04T02:12:27.287224Z",
     "iopub.status.idle": "2021-07-04T02:12:29.215594Z",
     "shell.execute_reply": "2021-07-04T02:12:29.216025Z",
     "shell.execute_reply.started": "2021-07-04T02:05:31.222655Z"
    },
    "papermill": {
     "duration": 2.131686,
     "end_time": "2021-07-04T02:12:29.216193",
     "exception": false,
     "start_time": "2021-07-04T02:12:27.084507",
     "status": "completed"
    },
    "tags": []
   },
   "outputs": [],
   "source": [
    "visUsrData = visUsrData.merge(userData,on='UserID',how='inner')\n",
    "visUsrData['Signup Date']=pd.to_datetime(visUsrData['Signup Date'],format=\"%Y-%m-%d %H:%M:%S\")\n",
    "visUsrData['Signup Date'] = visUsrData['Signup Date'].dt.tz_localize(None)\n",
    "visUsrData['User_Vintage'] = (visUsrData['VisitDateTime'].max() - visUsrData['Signup Date']).dt.days"
   ]
  },
  {
   "cell_type": "markdown",
   "id": "contrary-rebate",
   "metadata": {
    "papermill": {
     "duration": 0.199686,
     "end_time": "2021-07-04T02:12:29.614150",
     "exception": false,
     "start_time": "2021-07-04T02:12:29.414464",
     "status": "completed"
    },
    "tags": []
   },
   "source": [
    "## User_Vintage"
   ]
  },
  {
   "cell_type": "code",
   "execution_count": 15,
   "id": "danish-disabled",
   "metadata": {
    "execution": {
     "iopub.execute_input": "2021-07-04T02:12:30.020275Z",
     "iopub.status.busy": "2021-07-04T02:12:30.019649Z",
     "iopub.status.idle": "2021-07-04T02:12:30.209406Z",
     "shell.execute_reply": "2021-07-04T02:12:30.208899Z",
     "shell.execute_reply.started": "2021-07-04T02:05:36.063258Z"
    },
    "papermill": {
     "duration": 0.393444,
     "end_time": "2021-07-04T02:12:30.209537",
     "exception": false,
     "start_time": "2021-07-04T02:12:29.816093",
     "status": "completed"
    },
    "tags": []
   },
   "outputs": [],
   "source": [
    "df = df.merge(visUsrData.groupby(['UserID'])['User_Vintage'].max().reset_index(),on='UserID',how='left')\n",
    "df['User_Vintage']=df['User_Vintage']+1"
   ]
  },
  {
   "cell_type": "markdown",
   "id": "compressed-wound",
   "metadata": {
    "papermill": {
     "duration": 0.227222,
     "end_time": "2021-07-04T02:12:30.635053",
     "exception": false,
     "start_time": "2021-07-04T02:12:30.407831",
     "status": "completed"
    },
    "tags": []
   },
   "source": [
    "## Most_Active_OS"
   ]
  },
  {
   "cell_type": "code",
   "execution_count": 16,
   "id": "pleasant-pencil",
   "metadata": {
    "execution": {
     "iopub.execute_input": "2021-07-04T02:12:31.098105Z",
     "iopub.status.busy": "2021-07-04T02:12:31.097455Z",
     "iopub.status.idle": "2021-07-04T02:12:37.150783Z",
     "shell.execute_reply": "2021-07-04T02:12:37.150204Z",
     "shell.execute_reply.started": "2021-07-04T02:05:40.434404Z"
    },
    "papermill": {
     "duration": 6.294512,
     "end_time": "2021-07-04T02:12:37.150932",
     "exception": false,
     "start_time": "2021-07-04T02:12:30.856420",
     "status": "completed"
    },
    "tags": []
   },
   "outputs": [],
   "source": [
    "\n",
    "df['Most_Active_OS'] = visUsrData.groupby(['UserID'])['OS'].agg(lambda x: stats.mode(x)[0][0]).values"
   ]
  },
  {
   "cell_type": "code",
   "execution_count": 17,
   "id": "magnetic-stadium",
   "metadata": {
    "execution": {
     "iopub.execute_input": "2021-07-04T02:12:37.559007Z",
     "iopub.status.busy": "2021-07-04T02:12:37.558367Z",
     "iopub.status.idle": "2021-07-04T02:12:37.561550Z",
     "shell.execute_reply": "2021-07-04T02:12:37.561010Z",
     "shell.execute_reply.started": "2021-07-04T02:05:46.782895Z"
    },
    "papermill": {
     "duration": 0.215219,
     "end_time": "2021-07-04T02:12:37.561669",
     "exception": false,
     "start_time": "2021-07-04T02:12:37.346450",
     "status": "completed"
    },
    "tags": []
   },
   "outputs": [
    {
     "data": {
      "text/plain": [
       "windows      20034\n",
       "android       9853\n",
       "mac os x      2424\n",
       "linux          924\n",
       "ios            493\n",
       "ubuntu         296\n",
       "chrome os       14\n",
       "fedora          12\n",
       "Name: Most_Active_OS, dtype: int64"
      ]
     },
     "execution_count": 17,
     "metadata": {},
     "output_type": "execute_result"
    }
   ],
   "source": [
    "df['Most_Active_OS'].value_counts()"
   ]
  },
  {
   "cell_type": "markdown",
   "id": "abroad-perfume",
   "metadata": {
    "papermill": {
     "duration": 0.198593,
     "end_time": "2021-07-04T02:12:37.958870",
     "exception": false,
     "start_time": "2021-07-04T02:12:37.760277",
     "status": "completed"
    },
    "tags": []
   },
   "source": [
    "## Pageloads_last_7_days & Clicks_last_7_days"
   ]
  },
  {
   "cell_type": "code",
   "execution_count": 18,
   "id": "brutal-token",
   "metadata": {
    "execution": {
     "iopub.execute_input": "2021-07-04T02:12:38.394578Z",
     "iopub.status.busy": "2021-07-04T02:12:38.393971Z",
     "iopub.status.idle": "2021-07-04T02:12:38.699669Z",
     "shell.execute_reply": "2021-07-04T02:12:38.699169Z",
     "shell.execute_reply.started": "2021-07-04T02:05:46.803165Z"
    },
    "papermill": {
     "duration": 0.539042,
     "end_time": "2021-07-04T02:12:38.699838",
     "exception": false,
     "start_time": "2021-07-04T02:12:38.160796",
     "status": "completed"
    },
    "tags": []
   },
   "outputs": [],
   "source": [
    "df ['Pageloads_last_7_days'] = visUsrData.groupby(['UserID'])['Pageloads_last_7_days'].sum().values\n",
    "df ['Clicks_last_7_days'] = visUsrData.groupby(['UserID'])['Clicks_last_7_days'].sum().values\n"
   ]
  },
  {
   "cell_type": "code",
   "execution_count": 19,
   "id": "blond-challenge",
   "metadata": {
    "execution": {
     "iopub.execute_input": "2021-07-04T02:12:39.103633Z",
     "iopub.status.busy": "2021-07-04T02:12:39.103039Z",
     "iopub.status.idle": "2021-07-04T02:12:39.107202Z",
     "shell.execute_reply": "2021-07-04T02:12:39.106658Z",
     "shell.execute_reply.started": "2021-07-04T02:05:55.533564Z"
    },
    "papermill": {
     "duration": 0.209089,
     "end_time": "2021-07-04T02:12:39.107328",
     "exception": false,
     "start_time": "2021-07-04T02:12:38.898239",
     "status": "completed"
    },
    "tags": []
   },
   "outputs": [
    {
     "data": {
      "text/plain": [
       "0    0\n",
       "1    1\n",
       "2    1\n",
       "3    2\n",
       "4    1\n",
       "Name: Pageloads_last_7_days, dtype: int64"
      ]
     },
     "execution_count": 19,
     "metadata": {},
     "output_type": "execute_result"
    }
   ],
   "source": [
    "df['Pageloads_last_7_days'].head(5)"
   ]
  },
  {
   "cell_type": "markdown",
   "id": "useful-orientation",
   "metadata": {
    "papermill": {
     "duration": 0.193602,
     "end_time": "2021-07-04T02:12:39.495444",
     "exception": false,
     "start_time": "2021-07-04T02:12:39.301842",
     "status": "completed"
    },
    "tags": []
   },
   "source": [
    "## Recently_Viewed_Product"
   ]
  },
  {
   "cell_type": "code",
   "execution_count": 20,
   "id": "voluntary-palace",
   "metadata": {
    "execution": {
     "iopub.execute_input": "2021-07-04T02:12:39.895067Z",
     "iopub.status.busy": "2021-07-04T02:12:39.894469Z",
     "iopub.status.idle": "2021-07-04T02:12:41.152691Z",
     "shell.execute_reply": "2021-07-04T02:12:41.152230Z",
     "shell.execute_reply.started": "2021-07-04T02:06:04.403536Z"
    },
    "papermill": {
     "duration": 1.460546,
     "end_time": "2021-07-04T02:12:41.152842",
     "exception": false,
     "start_time": "2021-07-04T02:12:39.692296",
     "status": "completed"
    },
    "tags": []
   },
   "outputs": [
    {
     "name": "stderr",
     "output_type": "stream",
     "text": [
      "/opt/conda/lib/python3.7/site-packages/ipykernel_launcher.py:2: UserWarning: Boolean Series key will be reindexed to match DataFrame index.\n",
      "  \n"
     ]
    }
   ],
   "source": [
    "mask = visUsrData['pageloads_actvity']==1\n",
    "df = df.merge(visUsrData.sort_values(['UserID','VisitDateTime'])[mask].groupby(['UserID'])\n",
    "              .agg({'ProductID':'last'}).reset_index().rename(columns={'ProductID':'Recently_Viewed_Product'}),on='UserID',how='left')"
   ]
  },
  {
   "cell_type": "markdown",
   "id": "lovely-island",
   "metadata": {
    "papermill": {
     "duration": 0.196928,
     "end_time": "2021-07-04T02:12:41.546673",
     "exception": false,
     "start_time": "2021-07-04T02:12:41.349745",
     "status": "completed"
    },
    "tags": []
   },
   "source": [
    "## Most_Viewed_product_15_Days"
   ]
  },
  {
   "cell_type": "code",
   "execution_count": 21,
   "id": "physical-degree",
   "metadata": {
    "execution": {
     "iopub.execute_input": "2021-07-04T02:12:41.968503Z",
     "iopub.status.busy": "2021-07-04T02:12:41.967528Z",
     "iopub.status.idle": "2021-07-04T02:12:46.692694Z",
     "shell.execute_reply": "2021-07-04T02:12:46.692131Z",
     "shell.execute_reply.started": "2021-07-04T02:06:10.912518Z"
    },
    "papermill": {
     "duration": 4.938195,
     "end_time": "2021-07-04T02:12:46.692834",
     "exception": false,
     "start_time": "2021-07-04T02:12:41.754639",
     "status": "completed"
    },
    "tags": []
   },
   "outputs": [
    {
     "name": "stderr",
     "output_type": "stream",
     "text": [
      "/opt/conda/lib/python3.7/site-packages/ipykernel_launcher.py:3: UserWarning: Boolean Series key will be reindexed to match DataFrame index.\n",
      "  This is separate from the ipykernel package so we can avoid doing imports until\n"
     ]
    }
   ],
   "source": [
    "from scipy import stats\n",
    "mask2 = (visUsrData['pageloads_actvity']==1)  & (visUsrData['FifteenDays']==1)\n",
    "df = df.merge(visUsrData.sort_values(['UserID','VisitDateTime'],ascending=[True, False])[mask2].groupby(['UserID'])\n",
    "              .agg({'ProductID':lambda x: stats.mode(x)[0][0]}).reset_index().rename(columns={'ProductID':'Most_Viewed_product_15_Days'}),on='UserID',how='left')"
   ]
  },
  {
   "cell_type": "markdown",
   "id": "nearby-copying",
   "metadata": {
    "papermill": {
     "duration": 0.204994,
     "end_time": "2021-07-04T02:12:47.096427",
     "exception": false,
     "start_time": "2021-07-04T02:12:46.891433",
     "status": "completed"
    },
    "tags": []
   },
   "source": [
    "## No_Of_Products_Viewed_15_Days"
   ]
  },
  {
   "cell_type": "code",
   "execution_count": 22,
   "id": "contrary-timing",
   "metadata": {
    "execution": {
     "iopub.execute_input": "2021-07-04T02:12:47.526813Z",
     "iopub.status.busy": "2021-07-04T02:12:47.525922Z",
     "iopub.status.idle": "2021-07-04T02:13:09.503503Z",
     "shell.execute_reply": "2021-07-04T02:13:09.503061Z",
     "shell.execute_reply.started": "2021-07-04T02:06:19.298558Z"
    },
    "papermill": {
     "duration": 22.212926,
     "end_time": "2021-07-04T02:13:09.503634",
     "exception": false,
     "start_time": "2021-07-04T02:12:47.290708",
     "status": "completed"
    },
    "tags": []
   },
   "outputs": [
    {
     "name": "stdout",
     "output_type": "stream",
     "text": [
      "534\n",
      "0\n"
     ]
    }
   ],
   "source": [
    "visUsrData['ProductID'] = visUsrData.groupby(['UserID'])['ProductID'].transform(lambda x: x.fillna(stats.mode(x)[0][0]))\n",
    "print(visUsrData['ProductID'].isnull().sum())\n",
    "visUsrData['ProductID'].fillna('Product101',inplace=True)\n",
    "print(visUsrData['ProductID'].isnull().sum())"
   ]
  },
  {
   "cell_type": "code",
   "execution_count": 23,
   "id": "announced-simon",
   "metadata": {
    "execution": {
     "iopub.execute_input": "2021-07-04T02:13:09.908149Z",
     "iopub.status.busy": "2021-07-04T02:13:09.907129Z",
     "iopub.status.idle": "2021-07-04T02:13:10.347397Z",
     "shell.execute_reply": "2021-07-04T02:13:10.346877Z",
     "shell.execute_reply.started": "2021-07-04T02:06:41.696990Z"
    },
    "papermill": {
     "duration": 0.64378,
     "end_time": "2021-07-04T02:13:10.347537",
     "exception": false,
     "start_time": "2021-07-04T02:13:09.703757",
     "status": "completed"
    },
    "tags": []
   },
   "outputs": [],
   "source": [
    "mask3 = visUsrData['FifteenDays']==1\n",
    "\n",
    "df = df.merge(visUsrData[mask3].groupby(['UserID']).agg({'ProductID':'nunique'}).reset_index().rename(columns={'ProductID':'No_Of_Products_Viewed_15_Days'}),on='UserID',how='left')"
   ]
  },
  {
   "cell_type": "markdown",
   "id": "standard-captain",
   "metadata": {
    "papermill": {
     "duration": 0.201707,
     "end_time": "2021-07-04T02:13:10.750373",
     "exception": false,
     "start_time": "2021-07-04T02:13:10.548666",
     "status": "completed"
    },
    "tags": []
   },
   "source": [
    "Fill in missing values"
   ]
  },
  {
   "cell_type": "code",
   "execution_count": 24,
   "id": "applied-merchant",
   "metadata": {
    "execution": {
     "iopub.execute_input": "2021-07-04T02:13:11.163571Z",
     "iopub.status.busy": "2021-07-04T02:13:11.157052Z",
     "iopub.status.idle": "2021-07-04T02:13:11.185644Z",
     "shell.execute_reply": "2021-07-04T02:13:11.185152Z",
     "shell.execute_reply.started": "2021-07-04T02:06:46.847462Z"
    },
    "papermill": {
     "duration": 0.233508,
     "end_time": "2021-07-04T02:13:11.185796",
     "exception": false,
     "start_time": "2021-07-04T02:13:10.952288",
     "status": "completed"
    },
    "tags": []
   },
   "outputs": [],
   "source": [
    "# df['Most_Viewed_product_15_Days']='P12345'\n",
    "# df['Recently_Viewed_Product']='P12345'\n",
    "# df['Pageloads_last_7_days']=1\n",
    "# df['Clicks_last_7_days']=1\n",
    "\n",
    "df.reset_index(inplace=True)\n",
    "df.rename(columns={'is7Active':'No_of_days_Visited_7_Days'},inplace=True)\n",
    "\n",
    "df['Recently_Viewed_Product'].fillna('Product101',inplace=True)\n",
    "df['Most_Viewed_product_15_Days'].fillna('Product101',inplace=True)\n",
    "df['No_Of_Products_Viewed_15_Days'].fillna(0,inplace=True)\n",
    "\n",
    "df = df.reindex(['UserID','No_of_days_Visited_7_Days','No_Of_Products_Viewed_15_Days','User_Vintage','Most_Viewed_product_15_Days',\n",
    "      'Most_Active_OS','Recently_Viewed_Product','Pageloads_last_7_days','Clicks_last_7_days'], axis=1)\n"
   ]
  },
  {
   "cell_type": "markdown",
   "id": "intermediate-quick",
   "metadata": {
    "papermill": {
     "duration": 0.198516,
     "end_time": "2021-07-04T02:13:11.582087",
     "exception": false,
     "start_time": "2021-07-04T02:13:11.383571",
     "status": "completed"
    },
    "tags": []
   },
   "source": [
    "Re Index"
   ]
  },
  {
   "cell_type": "code",
   "execution_count": 25,
   "id": "refined-hello",
   "metadata": {
    "execution": {
     "iopub.execute_input": "2021-07-04T02:13:12.013654Z",
     "iopub.status.busy": "2021-07-04T02:13:12.012729Z",
     "iopub.status.idle": "2021-07-04T02:13:12.020467Z",
     "shell.execute_reply": "2021-07-04T02:13:12.019970Z",
     "shell.execute_reply.started": "2021-07-04T02:06:53.323686Z"
    },
    "papermill": {
     "duration": 0.234066,
     "end_time": "2021-07-04T02:13:12.020592",
     "exception": false,
     "start_time": "2021-07-04T02:13:11.786526",
     "status": "completed"
    },
    "tags": []
   },
   "outputs": [
    {
     "data": {
      "text/plain": [
       "UserID                           0\n",
       "No_of_days_Visited_7_Days        0\n",
       "No_Of_Products_Viewed_15_Days    0\n",
       "User_Vintage                     0\n",
       "Most_Viewed_product_15_Days      0\n",
       "Most_Active_OS                   0\n",
       "Recently_Viewed_Product          0\n",
       "Pageloads_last_7_days            0\n",
       "Clicks_last_7_days               0\n",
       "dtype: int64"
      ]
     },
     "execution_count": 25,
     "metadata": {},
     "output_type": "execute_result"
    }
   ],
   "source": [
    "df.isnull().sum()"
   ]
  },
  {
   "cell_type": "code",
   "execution_count": 26,
   "id": "indie-thanksgiving",
   "metadata": {
    "execution": {
     "iopub.execute_input": "2021-07-04T02:13:12.419190Z",
     "iopub.status.busy": "2021-07-04T02:13:12.418304Z",
     "iopub.status.idle": "2021-07-04T02:13:12.603556Z",
     "shell.execute_reply": "2021-07-04T02:13:12.603055Z"
    },
    "papermill": {
     "duration": 0.384852,
     "end_time": "2021-07-04T02:13:12.603677",
     "exception": false,
     "start_time": "2021-07-04T02:13:12.218825",
     "status": "completed"
    },
    "tags": []
   },
   "outputs": [],
   "source": [
    "df.to_csv('input_feats_v27.csv',index=False)"
   ]
  },
  {
   "cell_type": "code",
   "execution_count": null,
   "id": "double-dairy",
   "metadata": {
    "papermill": {
     "duration": 0.20177,
     "end_time": "2021-07-04T02:13:13.004846",
     "exception": false,
     "start_time": "2021-07-04T02:13:12.803076",
     "status": "completed"
    },
    "tags": []
   },
   "outputs": [],
   "source": []
  }
 ],
 "metadata": {
  "kernelspec": {
   "display_name": "Python 3",
   "language": "python",
   "name": "python3"
  },
  "language_info": {
   "codemirror_mode": {
    "name": "ipython",
    "version": 3
   },
   "file_extension": ".py",
   "mimetype": "text/x-python",
   "name": "python",
   "nbconvert_exporter": "python",
   "pygments_lexer": "ipython3",
   "version": "3.7.10"
  },
  "papermill": {
   "default_parameters": {},
   "duration": 194.761211,
   "end_time": "2021-07-04T02:13:14.517394",
   "environment_variables": {},
   "exception": null,
   "input_path": "__notebook__.ipynb",
   "output_path": "__notebook__.ipynb",
   "parameters": {},
   "start_time": "2021-07-04T02:09:59.756183",
   "version": "2.3.3"
  }
 },
 "nbformat": 4,
 "nbformat_minor": 5
}
